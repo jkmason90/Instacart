{
 "cells": [
  {
   "cell_type": "markdown",
   "id": "8346cd6c",
   "metadata": {},
   "source": [
    "# Imported Libraries"
   ]
  },
  {
   "cell_type": "code",
   "execution_count": 6,
   "id": "cceacf45",
   "metadata": {},
   "outputs": [],
   "source": [
    "# Import libraries"
   ]
  },
  {
   "cell_type": "code",
   "execution_count": 9,
   "id": "ea812fb8",
   "metadata": {},
   "outputs": [],
   "source": [
    "import pandas as pd"
   ]
  },
  {
   "cell_type": "code",
   "execution_count": 10,
   "id": "3ca96187",
   "metadata": {},
   "outputs": [],
   "source": [
    "import numpy as np"
   ]
  },
  {
   "cell_type": "code",
   "execution_count": 8,
   "id": "5e975de7",
   "metadata": {},
   "outputs": [],
   "source": [
    "import os"
   ]
  },
  {
   "cell_type": "markdown",
   "id": "3bd1c916",
   "metadata": {},
   "source": [
    "#  Python data types"
   ]
  },
  {
   "cell_type": "code",
   "execution_count": 34,
   "id": "c5a03987",
   "metadata": {},
   "outputs": [],
   "source": [
    "x=50"
   ]
  },
  {
   "cell_type": "code",
   "execution_count": 35,
   "id": "6f509511",
   "metadata": {},
   "outputs": [
    {
     "data": {
      "text/plain": [
       "100"
      ]
     },
     "execution_count": 35,
     "metadata": {},
     "output_type": "execute_result"
    }
   ],
   "source": [
    "x+x"
   ]
  },
  {
   "cell_type": "code",
   "execution_count": 36,
   "id": "d5cfcc68",
   "metadata": {},
   "outputs": [
    {
     "data": {
      "text/plain": [
       "100"
      ]
     },
     "execution_count": 36,
     "metadata": {},
     "output_type": "execute_result"
    }
   ],
   "source": [
    "x*2"
   ]
  },
  {
   "cell_type": "code",
   "execution_count": 37,
   "id": "f0744e44",
   "metadata": {},
   "outputs": [
    {
     "data": {
      "text/plain": [
       "100"
      ]
     },
     "execution_count": 37,
     "metadata": {},
     "output_type": "execute_result"
    }
   ],
   "source": [
    "150-x"
   ]
  },
  {
   "cell_type": "code",
   "execution_count": 38,
   "id": "7884a087",
   "metadata": {},
   "outputs": [],
   "source": [
    "y=25.65"
   ]
  },
  {
   "cell_type": "code",
   "execution_count": 39,
   "id": "09b2587e",
   "metadata": {},
   "outputs": [],
   "source": [
    "b=4.25"
   ]
  },
  {
   "cell_type": "code",
   "execution_count": 40,
   "id": "8f57d4dc",
   "metadata": {},
   "outputs": [
    {
     "data": {
      "text/plain": [
       "6.035294117647059"
      ]
     },
     "execution_count": 40,
     "metadata": {},
     "output_type": "execute_result"
    }
   ],
   "source": [
    "y/b"
   ]
  },
  {
   "cell_type": "code",
   "execution_count": 42,
   "id": "11afd3fc",
   "metadata": {},
   "outputs": [],
   "source": [
    "c='tennis'"
   ]
  },
  {
   "cell_type": "code",
   "execution_count": 43,
   "id": "b97e4234",
   "metadata": {},
   "outputs": [],
   "source": [
    "d='ball'"
   ]
  },
  {
   "cell_type": "code",
   "execution_count": 44,
   "id": "6df2d591",
   "metadata": {},
   "outputs": [
    {
     "data": {
      "text/plain": [
       "'tennisball'"
      ]
     },
     "execution_count": 44,
     "metadata": {},
     "output_type": "execute_result"
    }
   ],
   "source": [
    "c+d"
   ]
  },
  {
   "cell_type": "code",
   "execution_count": 45,
   "id": "0c7affdb",
   "metadata": {},
   "outputs": [],
   "source": [
    "e='I'"
   ]
  },
  {
   "cell_type": "code",
   "execution_count": 46,
   "id": "8f86610a",
   "metadata": {},
   "outputs": [],
   "source": [
    "f='like'"
   ]
  },
  {
   "cell_type": "code",
   "execution_count": 47,
   "id": "f04ed774",
   "metadata": {},
   "outputs": [],
   "source": [
    "g='popcorn.'"
   ]
  },
  {
   "cell_type": "code",
   "execution_count": 48,
   "id": "6efaeef5",
   "metadata": {},
   "outputs": [
    {
     "data": {
      "text/plain": [
       "'Ilikepopcorn.'"
      ]
     },
     "execution_count": 48,
     "metadata": {},
     "output_type": "execute_result"
    }
   ],
   "source": [
    "e+f+g"
   ]
  },
  {
   "cell_type": "code",
   "execution_count": 49,
   "id": "a8092b11",
   "metadata": {},
   "outputs": [],
   "source": [
    "h='My'"
   ]
  },
  {
   "cell_type": "code",
   "execution_count": 50,
   "id": "a5995aeb",
   "metadata": {},
   "outputs": [],
   "source": [
    "i='dogs'"
   ]
  },
  {
   "cell_type": "code",
   "execution_count": 51,
   "id": "af8741ac",
   "metadata": {},
   "outputs": [],
   "source": [
    "j='name'"
   ]
  },
  {
   "cell_type": "code",
   "execution_count": 52,
   "id": "aa332cc2",
   "metadata": {},
   "outputs": [],
   "source": [
    "k='is'"
   ]
  },
  {
   "cell_type": "code",
   "execution_count": 53,
   "id": "c800b69b",
   "metadata": {},
   "outputs": [],
   "source": [
    "l='Bailey'"
   ]
  },
  {
   "cell_type": "code",
   "execution_count": 54,
   "id": "ccdd4705",
   "metadata": {},
   "outputs": [
    {
     "data": {
      "text/plain": [
       "'MydogsnameisBailey'"
      ]
     },
     "execution_count": 54,
     "metadata": {},
     "output_type": "execute_result"
    }
   ],
   "source": [
    "h+i+j+k+l"
   ]
  },
  {
   "cell_type": "code",
   "execution_count": null,
   "id": "06cca14a",
   "metadata": {},
   "outputs": [],
   "source": []
  }
 ],
 "metadata": {
  "kernelspec": {
   "display_name": "Python 3 (ipykernel)",
   "language": "python",
   "name": "python3"
  },
  "language_info": {
   "codemirror_mode": {
    "name": "ipython",
    "version": 3
   },
   "file_extension": ".py",
   "mimetype": "text/x-python",
   "name": "python",
   "nbconvert_exporter": "python",
   "pygments_lexer": "ipython3",
   "version": "3.9.12"
  }
 },
 "nbformat": 4,
 "nbformat_minor": 5
}
